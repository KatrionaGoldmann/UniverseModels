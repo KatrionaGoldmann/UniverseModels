{
 "cells": [
  {
   "cell_type": "markdown",
   "metadata": {},
   "source": [
    "# Background Energy\n",
    "\n",
    "Firstly, the background energy for a flat universe was modelled for a matter only, vacuum energy only and ΛCDM case (Einstein-de Sitter, de Sitter and concordance model respectively). This was done by evolving the Friedmann equation discretely as described. These theoretical results were compared to the analytical expansion. The errors were then found by calculating the difference between these methods at each time-step. These computations were conducted using a time-step of ∆t = 0.001Gyr and a system run for 20,000 iterations."
   ]
  },
  {
   "cell_type": "markdown",
   "metadata": {},
   "source": [
    "## Configure Python settings"
   ]
  },
  {
   "cell_type": "code",
   "execution_count": 3,
   "metadata": {},
   "outputs": [],
   "source": [
    "%matplotlib inline"
   ]
  },
  {
   "cell_type": "code",
   "execution_count": 4,
   "metadata": {},
   "outputs": [],
   "source": [
    "import numpy as np\n",
    "import matplotlib.pyplot as plt\n",
    "import numpy as np\n",
    "import math"
   ]
  },
  {
   "cell_type": "markdown",
   "metadata": {},
   "source": [
    "## Models\n",
    "\n",
    "Set up parameters to model the Universe according to the Friedmann equation: H<sub>0</sub> =  8πG/3 ρ + Λc<sup>2</sup>/3\n",
    "\n",
    "There are three main models to be explored:"
   ]
  },
  {
   "cell_type": "markdown",
   "metadata": {},
   "source": [
    "| Model             | omega_m | omega_lambda  | a |\n",
    "| :---------------: |:-------:| :------------:|:-----:|\n",
    "| Einstein DeSitter | 1       | 0             | a ∝ t<sup>2/3</sup> |\n",
    "| DeSitter          | 0       | 1             | a ∝ exp(t) |\n",
    "| Concordence       | 0.3     | 0.7           | a ∝ sinh<sup>2/3</sup>(t) |"
   ]
  },
  {
   "cell_type": "markdown",
   "metadata": {},
   "source": [
    "## Set up parameters "
   ]
  },
  {
   "cell_type": "code",
   "execution_count": 14,
   "metadata": {},
   "outputs": [],
   "source": [
    "# Currently set up for a concordence model\n",
    "\n",
    "omega_m, omega_phi =  0.3, 0.7\n",
    "a0, H0, t0 = 0.15, 1./13.7, 1.\n",
    "dt, iterations = 0.001, 20000\n",
    "avals, Hvals, t = [], [], []\n",
    "\n",
    "t = np.arange(t0, t0 + iterations*dt, dt)"
   ]
  },
  {
   "cell_type": "markdown",
   "metadata": {},
   "source": [
    "## Define functions to model theories"
   ]
  },
  {
   "cell_type": "code",
   "execution_count": 15,
   "metadata": {},
   "outputs": [],
   "source": [
    "def Hubble(ai):\n",
    "       brack = (omega_m)*(math.pow(ai,-3)) + omega_phi\n",
    "       H2 = (math.pow(H0, 2))*brack\n",
    "       H = math.sqrt(H2)\n",
    "       return H"
   ]
  },
  {
   "cell_type": "code",
   "execution_count": 16,
   "metadata": {},
   "outputs": [],
   "source": [
    "def Theory():\n",
    "      avals, Hvals, Hdot = [], [], []\n",
    "      anext, H = a0, H0\n",
    "      for i in range(len(t)):\n",
    "          avals.append(anext)\n",
    "          Hvals.append(H)\n",
    "          H = Hubble(anext)\n",
    "          anext = anext*(1 + H*dt)\n",
    "      return avals, Hvals\n"
   ]
  },
  {
   "cell_type": "code",
   "execution_count": 17,
   "metadata": {},
   "outputs": [],
   "source": [
    "    def EinDeSit():\n",
    "        avals = []\n",
    "        a_next = a0\n",
    "        num = 2./3.\n",
    "        for i in range(len(t)):\n",
    "            avals.append(a_next)\n",
    "            term = 3.*H0*(dt)/(2.)  + math.pow(a_next, 3./2.)\n",
    "            a_next = math.pow(term, num)\n",
    "        return avals"
   ]
  },
  {
   "cell_type": "code",
   "execution_count": 18,
   "metadata": {},
   "outputs": [],
   "source": [
    "    def DeSit():\n",
    "        avals = []\n",
    "        a_next = a0\n",
    "        for i in range(len(t)):\n",
    "            avals.append(a_next)\n",
    "            a_next = a_next*(1 + H0*dt + (H0*dt)**2/2.)\n",
    "        return avals"
   ]
  },
  {
   "cell_type": "code",
   "execution_count": 19,
   "metadata": {},
   "outputs": [],
   "source": [
    " def concordence():\n",
    "        avals = []\n",
    "        a_next = a0\n",
    "        coeff = math.pow(omega_m/omega_phi, 1./3.)\n",
    "        for i in range(len(t)):\n",
    "            avals.append(a_next)\n",
    "            arg = 3.*math.sqrt(omega_phi)*H0/2.\n",
    "            term2 = math.sinh(arg*t[i])\n",
    "            a_next = coeff*(math.pow(term2, 2./3.))\n",
    "        return avals"
   ]
  },
  {
   "cell_type": "markdown",
   "metadata": {},
   "source": [
    "## Chose which theory to model\n",
    "\n",
    "According to the earlier parameter set-ups"
   ]
  },
  {
   "cell_type": "code",
   "execution_count": 20,
   "metadata": {},
   "outputs": [],
   "source": [
    "Theory = Theory()[0]\n",
    "\n",
    "if omega_m == 1.0: model = EinDeSit()\n",
    "elif omega_m == 0.0: model = DeSit()\n",
    "else: model = concordence()"
   ]
  },
  {
   "cell_type": "code",
   "execution_count": 21,
   "metadata": {},
   "outputs": [],
   "source": [
    "diff, difference = [], []\n",
    "\n",
    "for i in range(len(Theory)):\n",
    "    diff.append(abs(100*(Theory[i] - model[i])/Theory[i]))"
   ]
  },
  {
   "cell_type": "markdown",
   "metadata": {},
   "source": [
    "## Plot the model \n",
    "\n",
    "The analytical model plots the computationally evolved and expanded model and the theoretical evolution maps"
   ]
  },
  {
   "cell_type": "code",
   "execution_count": 22,
   "metadata": {},
   "outputs": [
    {
     "data": {
      "image/png": "[encoded data removed]",
      "text/plain": [
       "<Figure size 432x288 with 2 Axes>"
      ]
     },
     "metadata": {
      "needs_background": "light"
     },
     "output_type": "display_data"
    }
   ],
   "source": [
    "fig, (ax1, ax2) = plt.subplots(1,2, sharey = True)\n",
    "ax1.plot(t, model, 'b', label = 'Analytical Model')\n",
    "ax1.set_title('Analytical Evolution')\n",
    "ax2.plot(t, Theory, 'g', label = 'Computational Expasion')\n",
    "ax2.set_title('Theoretical Evolution')\n",
    "ax1.set_ylabel('a(t)')\n",
    "ax1.set_xlabel('time (Gyr)')\n",
    "ax1.axvline(x = 9.8, ymin = 0.1, color ='r', linestyle = '--')\n",
    "ax2.axvline(x = 9.8, ymin = 0.1, color ='r', linestyle = '--')\n",
    "ax2.set_xlabel('time (Gyr)')\n",
    "plt.savefig('ConcModels.png')\n",
    "plt.show()"
   ]
  },
  {
   "cell_type": "markdown",
   "metadata": {},
   "source": [
    "## Plot the Compuational Error\n",
    "\n",
    "Calculated as the difference between analytical and theoretical models"
   ]
  },
  {
   "cell_type": "code",
   "execution_count": 25,
   "metadata": {},
   "outputs": [
    {
     "data": {
      "image/png": "[encoded data removed]",
      "text/plain": [
       "<Figure size 432x288 with 1 Axes>"
      ]
     },
     "metadata": {
      "needs_background": "light"
     },
     "output_type": "display_data"
    }
   ],
   "source": [
    "plt.plot(t, diff, 'b', label = 'Computational Error')\n",
    "plt.title('Computational Error')\n",
    "plt.ylabel('Percentage Error (%)')\n",
    "plt.xlabel('time (Gyr)')\n",
    "plt.savefig('ConcError.png')\n",
    "plt.show()\n",
    "\n",
    "f = open('../MinimizingEFT/error.txt', 'w')\n",
    "for i in range(len(diff)):\n",
    "    f.write(str(diff[i]) + '\\n')"
   ]
  },
  {
   "cell_type": "code",
   "execution_count": null,
   "metadata": {},
   "outputs": [],
   "source": []
  }
 ],
 "metadata": {
  "kernelspec": {
   "display_name": "Python 3",
   "language": "python",
   "name": "python3"
  },
  "language_info": {
   "codemirror_mode": {
    "name": "ipython",
    "version": 3
   },
   "file_extension": ".py",
   "mimetype": "text/x-python",
   "name": "python",
   "nbconvert_exporter": "python",
   "pygments_lexer": "ipython3",
   "version": "3.7.0"
  }
 },
 "nbformat": 4,
 "nbformat_minor": 1
}
