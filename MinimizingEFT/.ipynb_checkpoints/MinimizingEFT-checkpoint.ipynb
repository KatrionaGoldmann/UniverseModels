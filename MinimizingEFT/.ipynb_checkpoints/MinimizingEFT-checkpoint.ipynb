{
 "cells": [
  {
   "cell_type": "markdown",
   "metadata": {},
   "source": [
    "# MinimizingEFT\n",
    "\n",
    "This script runs the various algorithms for creating χ<sup>2</sup> models and minimizing these for multiple models."
   ]
  },
  {
   "cell_type": "code",
   "execution_count": null,
   "metadata": {},
   "outputs": [],
   "source": [
    "## Load in py functions within "
   ]
  },
  {
   "cell_type": "code",
   "execution_count": null,
   "metadata": {},
   "outputs": [],
   "source": [
    "# %load EFT.py\n",
    "import numpy as np\n",
    "import math\n",
    "from scipy.optimize import curve_fit\n",
    "import matplotlib.pyplot as plt\n",
    "\n",
    "class EFT(object):\n",
    "\n",
    "    # Initial conditions for the universe. \n",
    "    def __init__(self, omega_m, omega_phi, H0, a0, t0, iterations, dt):\n",
    "        self.omega_m = omega_m\n",
    "        self.omega_phi = omega_phi\n",
    "        self.dt = dt\n",
    "        self.H0 = H0\n",
    "        self.a0 = a0\n",
    "        self.it = iterations\n",
    "        self.file = file\n",
    "        self.t = np.arange(t0, t0 + iterations*dt, dt) \n",
    "        \n",
    "   # Concordence model: inferred solution for Lambda-CDM.\n",
    "    def BackgroundTheory(self):\n",
    "        avals, Hvals, Hdot= [], [], []\n",
    "        anext, H = self.a0, self.H0\n",
    "        for i in range(len(self.t)):\n",
    "            avals.append(anext)\n",
    "            Hvals.append(H)\n",
    "            brack = (self.omega_m)*(math.pow(anext,-3)) + self.omega_phi\n",
    "            H2 = (math.pow(self.H0, 2))*brack\n",
    "            H = math.sqrt(H2)\n",
    "            anext = anext*(1 + H*self.dt)\n",
    "        return avals, Hvals, Hdot\n",
    "\n",
    "\n"
   ]
  },
  {
   "cell_type": "code",
   "execution_count": null,
   "metadata": {},
   "outputs": [],
   "source": []
  },
  {
   "cell_type": "code",
   "execution_count": null,
   "metadata": {},
   "outputs": [],
   "source": [
    "%load ChiSq.py"
   ]
  },
  {
   "cell_type": "code",
   "execution_count": null,
   "metadata": {},
   "outputs": [],
   "source": [
    "%load ChiSq4params.py"
   ]
  },
  {
   "cell_type": "code",
   "execution_count": null,
   "metadata": {},
   "outputs": [],
   "source": [
    "from scipy.optimize import minimize"
   ]
  },
  {
   "cell_type": "markdown",
   "metadata": {},
   "source": [
    "## Set up parameters"
   ]
  },
  {
   "cell_type": "code",
   "execution_count": null,
   "metadata": {},
   "outputs": [],
   "source": [
    "c = 3 # Defines the parameters you are fitting: 2= Om, alpha 3= L0, beta or 4 = all four\n",
    "Om, Ophi, m0 =  0.3, 0.7, 8*math.pi*6.67E-11\n",
    "a0, H0, t0, dt, it= 0.15, 1/13.7, 1., 0.001, 2000\n",
    "t = np.arange(t0, t0 + it*dt, dt)\n",
    "OM0, Lambda0, beta = 1., -1*math.pow(H0, 2)*Ophi*3, 0.\n",
    "Eft = EFT(Om, Ophi, H0, a0, t0, it, dt)\n",
    "data = Eft.BackgroundTheory()[0]\n",
    "chi1 = chiSq(data, t, H0, a0, t0, Om, Ophi, dt, Lambda0, beta)\n",
    "chi2 = chiSq(data, t, H0, a0, t0, Om, Ophi, dt, Lambda0, beta)\n",
    "chi4 = ChiSq4params(data, t, H0, a0, t0, Om, Ophi, dt)"
   ]
  },
  {
   "cell_type": "markdown",
   "metadata": {},
   "source": [
    "## Chose model from parameters"
   ]
  },
  {
   "cell_type": "code",
   "execution_count": null,
   "metadata": {},
   "outputs": [],
   "source": [
    "if c ==2:\n",
    "    theoryfun = chi1.function([0., OM0])\n",
    "    madeupfun = chi1.function([1.5, 3.])\n",
    "    value = minimize(chi1, [0., OM0], method = 'TNC', tol = 0.000001, bounds = ((-3, 3), (-3, 3)))\n",
    "    chi1.check()\n",
    "    # Finding chi over alpha, omega space.\n",
    "    alphainits, om0inits = np.arange(-3, 3, 0.1), np.arange(-3, 3, 0.1)\n",
    "    for i in range(len(alphainits)):\n",
    "        print alphainits[i]\n",
    "        for j in range(len(om0inits)):\n",
    "            try: value2 = minimize(chi2, [alphainits[i], om0inits[j]], method = 'TNC')\n",
    "            except OverflowError: print \"couldn't manage \", i, j\n",
    "    chi2.check()\n",
    "\n",
    "if c ==3:\n",
    "    theoryfun = chi1.function([0., Lambda0])\n",
    "    value = minimize(chi1, [0., Lambda0], method = 'TNC', tol = 0.000001, bounds = ((-3, 3), (-3, 3)))\n",
    "    chi1.check()\n",
    "    # Finding chi over beta, Lambda space.\n",
    "    betainits, L0inits = np.arange(-1, 1, 0.1), np.arange(-1, 1, 0.1)\n",
    "    for i in range(len(betainits)):\n",
    "        print betainits[i]\n",
    "        for j in range(len(L0inits)):\n",
    "            try:value2 = minimize(chi2, [betainits[i], L0inits[j]], method = 'TNC')\n",
    "            except OverflowError: print \"couldn't manage \", i, j\n",
    "    chi2.check()\n",
    "\n",
    "if c ==5:\n",
    "    theoryfun = chi1.function([0., 0.])\n",
    "    value = minimize(chi1, [0., 0.], method = 'TNC', tol = 0.000001, bounds = ((-3, 3), (-3, 3)))\n",
    "    chi1.check()\n",
    "    # Finding chi over beta, Lambda space.\n",
    "    lambdainits, G0inits = np.arange(-3, 3, 0.1), np.arange(-3, 3, 0.1)\n",
    "    for i in range(len(lambdainits)):\n",
    "        print lambdainits[i]\n",
    "        for j in range(len(G0inits)):\n",
    "            try: value2 = minimize(chi2, [lambdainits[i], G0inits[j]], method = 'TNC', bounds=((-5, 5), (-5, 5)))\n",
    "            except OverflowError as er: print \"couldn't manage\", i, j\n",
    "    chi2.check()\n",
    "\n",
    "if c==4 :\n",
    "    theoryfun = chi4.function([0., OM0, 0., Lambda0])\n",
    "    value = minimize(chi4, [0., OM0, 0., Lambda0], method = 'TNC', tol = 0.000001)\n",
    "    altparams = chi4.check()\n",
    "    altfun = chi4.function(altparams)"
   ]
  },
  {
   "cell_type": "code",
   "execution_count": null,
   "metadata": {},
   "outputs": [],
   "source": []
  },
  {
   "cell_type": "code",
   "execution_count": null,
   "metadata": {},
   "outputs": [],
   "source": [
    "print 'Success?: ', value.success, value.message\n",
    "if c==2: print 'The minised alpha = ', value.x[0],  ', \\t Omega0 = ', value.x[1]\n",
    "if c==3: print 'The minised beta = ', value.x[0],  ', \\t Lambda0 = ', value.x[1]\n",
    "if c==5: print 'The minised delta = ', value.x[0],  ', \\t Gamma0 = ', value.x[1]\n",
    "if c==4: print 'beta = ', value.x[2],  ', \\t Lambda0= ', value.x[3]\n",
    "print 'The minised chi^2 = ', value.fun\n",
    "if c==2 or c==3 or c==5: new = chi1.function(value.x)\n",
    "if c==4: new = chi4.function(value.x)\n",
    "\n",
    "# Plotting the function\n",
    "plt.plot(t, new[0], 'r', label = 'Minimised function')\n",
    "plt.plot(t, madeupfun[0], 'g', label = 'alpha = 0, beta = 0, Lambda = 0.7')\n",
    "plt.plot(t, data, 'b', label = 'Lambda-CDM')\n",
    "if c ==4: plt.plot(t, altfun[0])\n",
    "plt.legend(loc = 2)\n",
    "plt.title('Expansion of the universe.')\n",
    "plt.ylabel('a(t)')\n",
    "plt.xlabel('time (Gyr)')\n",
    "plt.grid(True)\n",
    "plt.show()"
   ]
  }
 ],
 "metadata": {
  "kernelspec": {
   "display_name": "Python 3",
   "language": "python",
   "name": "python3"
  },
  "language_info": {
   "codemirror_mode": {
    "name": "ipython",
    "version": 3
   },
   "file_extension": ".py",
   "mimetype": "text/x-python",
   "name": "python",
   "nbconvert_exporter": "python",
   "pygments_lexer": "ipython3",
   "version": "3.7.0"
  }
 },
 "nbformat": 4,
 "nbformat_minor": 2
}
