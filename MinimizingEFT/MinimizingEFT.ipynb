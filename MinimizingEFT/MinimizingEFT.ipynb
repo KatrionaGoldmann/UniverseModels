{
 "cells": [
  {
   "cell_type": "markdown",
   "metadata": {},
   "source": [
    "# MinimizingEFT\n",
    "\n",
    "This script runs the various algorithms for creating χ<sup>2</sup> models and minimizing these for multiple models.\n",
    "\n",
    "\n",
    "<b> NB: this script takes a little while to run to be patient </b>"
   ]
  },
  {
   "cell_type": "markdown",
   "metadata": {},
   "source": [
    "## Load in py functions within directory"
   ]
  },
  {
   "cell_type": "code",
   "execution_count": null,
   "metadata": {},
   "outputs": [],
   "source": [
    "# %load EFT.py\n",
    "import numpy as np\n",
    "import math\n",
    "from scipy.optimize import curve_fit\n",
    "import matplotlib.pyplot as plt\n",
    "\n",
    "class EFT(object):\n",
    "\n",
    "    # Initial conditions for the universe. \n",
    "    def __init__(self, omega_m, omega_phi, H0, a0, t0, iterations, dt):\n",
    "        self.omega_m = omega_m\n",
    "        self.omega_phi = omega_phi\n",
    "        self.dt = dt\n",
    "        self.H0 = H0\n",
    "        self.a0 = a0\n",
    "        self.it = iterations\n",
    "        self.t = np.arange(t0, t0 + iterations*dt, dt) \n",
    "        \n",
    "   # Concordence model: inferred solution for Lambda-CDM.\n",
    "    def BackgroundTheory(self):\n",
    "        avals, Hvals, Hdot= [], [], []\n",
    "        anext, H = self.a0, self.H0\n",
    "        for i in range(len(self.t)):\n",
    "            avals.append(anext)\n",
    "            Hvals.append(H)\n",
    "            brack = (self.omega_m)*(math.pow(anext,-3)) + self.omega_phi\n",
    "            H2 = (math.pow(self.H0, 2))*brack\n",
    "            H = math.sqrt(H2)\n",
    "            anext = anext*(1 + H*self.dt)\n",
    "        return avals, Hvals, Hdot\n",
    "\n",
    "\n"
   ]
  },
  {
   "cell_type": "code",
   "execution_count": null,
   "metadata": {},
   "outputs": [],
   "source": [
    "# %load ChiSq.py\n",
    "import numpy as np\n",
    "import math\n",
    "import matplotlib.pylab as plt\n",
    "import matplotlib.image as mpimg\n",
    "\n",
    "class chiSq(object):\n",
    "\n",
    "    def __init__(self, data, t, H0, a0, t0, Om, Ophi, dt, Lambda0, beta):\n",
    "        self.dat = data\n",
    "        self.t = t\n",
    "        self.Lambda0, self.beta = Lambda0, beta\n",
    "        self.avals, self.Hvals, self.Hdot, self.Omega, self.Lambda= [], [], [], [], []\n",
    "        self.avals.append(a0)\n",
    "        self.anext = a0\n",
    "        self.H = H0\n",
    "        self.Gamma = 0.\n",
    "        self.Hvals.append(H0)\n",
    "        self.chivals, self.params1, self.params2 = [], [], []\n",
    "        self.Hdot.append(0.)\n",
    "        self.dt = dt\n",
    "        self.H0, self.a0, self.t0, self.Om, self.Ophi = H0, a0, t0, Om, Ophi\n",
    "\n",
    "    def __call__(self, params):\n",
    "        D = []\n",
    "        ypred = self.function(params)[0]  # predicted value from fitted function.\n",
    "        for i in range(len(ypred)):\n",
    "            arg = (math.pow((ypred[i] - self.dat[i]), 2))/self.dat[i]\n",
    "            D.append(arg) # error\n",
    "        chi = sum(D)\n",
    "        self.chivals.append(chi)\n",
    "        self.params1.append(params[0])\n",
    "        self.params2.append(params[1])\n",
    "        return chi\n",
    "\n",
    "    def HOmega(self, ai, H, i, params):\n",
    "        alpha, OM0 = params[0], params[1]\n",
    "        Lambda0, beta = self.Lambda0, self.beta\n",
    "        OM = OM0*(math.pow(self.t[i]/self.t0, alpha))\n",
    "        OMprime = OM0*(alpha)*(math.pow(self.t[i]/self.t0, alpha - 1))/self.t0\n",
    "        L = Lambda0*(math.pow(self.t[i]/self.t0, beta))\n",
    "        term1 = math.pow(self.H0, 2)*self.Om*(math.pow(ai,-3))/(OM)\n",
    "        term2 = L/(3*OM)\n",
    "        term3 = H*OMprime/OM\n",
    "        term4 = self.Gamma/(3*OM)\n",
    "        H2 = term1 - term2 - term3 + term4\n",
    "        H = math.sqrt(abs(H2))\n",
    "        return H, OM, L\n",
    "\n",
    "    def HLambda(self, ai, H, i, params):\n",
    "        beta, L0 = params[0], params[1]\n",
    "        OM0, alpha = 1., 0.\n",
    "        OM = OM0*(math.pow(self.t[i]/self.t0, alpha))\n",
    "        OMprime = OM0*(alpha)*(math.pow(self.t[i]/self.t0, alpha - 1))/self.t0\n",
    "        L = L0*(math.pow(self.t[i]/self.t0, beta))\n",
    "        term1 = math.pow(self.H0, 2)*self.Om*(math.pow(ai,-3))/(OM)\n",
    "        term2 = L/(3*OM)\n",
    "        term3 = H*OMprime/OM\n",
    "        term4 = self.Gamma/(3*OM)\n",
    "        H2 = term1 - term2 - term3 + term4\n",
    "        H = math.sqrt(abs(H2))\n",
    "        return H, OM, L\n",
    "\n",
    "    def HGamma(self, ai, H, i, params):\n",
    "        delta, G0 = params[0], params[1]\n",
    "        OM0, alpha, L0, beta = 1., 0., self.Lambda0, self.beta\n",
    "        OM = OM0*(math.pow(self.t[i]/self.t0, alpha))\n",
    "        OMprime = OM0*(alpha)*(math.pow(self.t[i]/self.t0, alpha - 1))/self.t0\n",
    "        L = L0*(math.pow(self.t[i]/self.t0, beta))\n",
    "        Gamma = G0*(math.pow(self.t[i]/self.t0, delta) )\n",
    "        term1 = math.pow(self.H0, 2)*self.Om*(math.pow(ai,-3))/(OM)\n",
    "        term2 = L/(3*OM)\n",
    "        term3 = H*OMprime/OM\n",
    "        term4 = Gamma/(3*OM)\n",
    "        H2 = term1 - term2 - term3 + term4\n",
    "        H = math.sqrt(abs(H2))\n",
    "        return H, OM, L\n",
    "\n",
    "    def function(self, params):\n",
    "        avals, Hvals, Hdot, Omega, Lambda= [], [], [], [], []\n",
    "        anext, H = self.a0, self.H0\n",
    "        for i in range(len(self.t)):\n",
    "            avals.append(anext)\n",
    "            Hvals.append(H)\n",
    "            val = i\n",
    "              #temp = self.HOmega(anext, H, val, params)\n",
    "            temp = self.HLambda(anext, H, val, params)\n",
    "            #temp = self.HOmega(anext, H, val, params)\n",
    "            H, OM, L = temp[0], temp[1], temp[2]\n",
    "            Omega.append(OM)\n",
    "            Lambda.append(L)\n",
    "            atemp = anext*(1 + H*self.dt)\n",
    "            Hdot.append((H - Hvals[i-1])/self.dt)\n",
    "            anext = anext*(1 + H*self.dt)\n",
    "        return avals, Hvals, Hdot, Omega, Lambda\n",
    "\n",
    "    def check(self):\n",
    "        i = self.chivals.index(min(self.chivals))\n",
    "        print(self.chivals[i])\n",
    "        scaledchi, scaledalpha, scaledomo = [], [], []\n",
    "        for j in range(len(self.chivals)):\n",
    "            if self.chivals[j] <= 0.5:\n",
    "                scaledchi.append(self.chivals[j])\n",
    "                scaledalpha.append(self.params1[j])\n",
    "                scaledomo.append(self.params2[j])\n",
    "        plt.scatter(scaledalpha, scaledomo, c=scaledchi)\n",
    "        plt.colorbar(label = r'$\\chi^2$')\n",
    "        plt.xlabel(r'$\\alpha$')\n",
    "        plt.ylabel(r'$\\Omega_0$')\n",
    "        plt.xlim([-3,3])\n",
    "        plt.ylim([-3,3])\n",
    "        plt.plot(0,1, marker = '*', color = 'm', markersize = 15)\n",
    "        plt.title(r'$\\chi^2$ for parameters $\\alpha$ and $\\Omega_0$')\n",
    "        plt.show()\n"
   ]
  },
  {
   "cell_type": "code",
   "execution_count": null,
   "metadata": {},
   "outputs": [],
   "source": [
    "# %load ChiSq4params.py\n",
    "import numpy as np\n",
    "import math\n",
    "import matplotlib.pylab as plt\n",
    "import matplotlib.image as mpimg\n",
    "\n",
    "class ChiSq4params(object):\n",
    "\n",
    "    def __init__(self, data, t, H0, a0, t0, Om, Ophi, dt):\n",
    "        self.dat = data\n",
    "        self.t = t\n",
    "        self.avals, self.Hvals, self.Hdot, self.Omega, self.Lambda= [], [], [], [], []\n",
    "        self.avals.append(a0)\n",
    "        self.anext = a0\n",
    "        self.H = H0\n",
    "        self.Hvals.append(H0)\n",
    "        self.chivals, self.params1, self.params2,  self.params3, self.params4 = [], [], [], [], []\n",
    "        self.Hdot.append(0.)       \n",
    "        self.dt = dt\n",
    "        self.H0, self.a0, self.t0, self.Om, self.Ophi = H0, a0, t0, Om, Ophi\n",
    "\n",
    "    def __call__(self, params):\n",
    "        D = []\n",
    "        ypred = self.function(params)[0]  # predicted value from fitted function. \n",
    "        for i in range(len(ypred)):\n",
    "            arg = (math.pow((ypred[i] - self.dat[i]), 2))/self.dat[i]\n",
    "            D.append(arg) # error\n",
    "        chi = sum(D)\n",
    "        self.chivals.append(chi)\n",
    "        self.params1.append(params[0])\n",
    "        self.params2.append(params[1])\n",
    "        self.params3.append(params[2])\n",
    "        self.params4.append(params[3])\n",
    "        return chi\n",
    "\n",
    "    def Hubble(self, ai, H, i, params):\n",
    "        alpha, OM0, beta, L0 = params[0], params[1],  params[2], params[3]\n",
    "        OM = OM0*(math.pow(self.t[i]/self.t0, alpha))\n",
    "        if OM ==0: OM = -0.00001\n",
    "        OMprime = OM0*(alpha)*(math.pow(self.t[i]/self.t0, alpha - 1))/self.t0\n",
    "        L = L0*(math.pow(self.t[i]/self.t0, beta))\n",
    "        term1 = math.pow(self.H0, 2)*self.Om*(math.pow(ai,-3))/(OM)\n",
    "        term2 = L/(3*OM)\n",
    "        term3 = H*OMprime/OM\n",
    "        H2 = term1 - term2 - term3\n",
    "        H = math.sqrt(abs(H2))\n",
    "        return H, OM, L\n",
    "\n",
    "    def function(self, params):\n",
    "        avals, Hvals, Hdot, Omega, Lambda= [], [], [], [], []\n",
    "        anext, H = self.a0, self.H0\n",
    "        for i in range(len(self.t)):\n",
    "            avals.append(anext)\n",
    "            Hvals.append(H)\n",
    "            val = i\n",
    "            temp = self.Hubble(anext, H, val, params)\n",
    "            H, OM, L = temp[0], temp[1], temp[2]\n",
    "            Omega.append(OM)\n",
    "            Lambda.append(L)\n",
    "            atemp = anext*(1 + H*self.dt)\n",
    "            Hdot.append((H - Hvals[i-1])/self.dt)\n",
    "            anext = anext*(1 + H*self.dt)\n",
    "        return avals, Hvals, Hdot, Omega, Lambda\n",
    "\n",
    "    def check(self):\n",
    "        val = min(n for n in self.chivals if n!=min(self.chivals))\n",
    "        i = self.chivals.index(val)\n",
    "        altparams = [self.params1[i], self.params2[i], self.params3[i], self.params4[i]]\n",
    "        print(altparams, self.chivals[i])\n",
    "        return altparams\n",
    "        \n",
    "    \n"
   ]
  },
  {
   "cell_type": "code",
   "execution_count": null,
   "metadata": {},
   "outputs": [],
   "source": [
    "from scipy.optimize import minimize"
   ]
  },
  {
   "cell_type": "markdown",
   "metadata": {},
   "source": [
    "## Set up parameters"
   ]
  },
  {
   "cell_type": "markdown",
   "metadata": {},
   "source": [
    "Define the parameters you are fitting. c defines which set of parameters to use in your model.\n",
    "\n",
    "|c   | parameters |\n",
    "|--|----------|\n",
    "|2| Om, alpha | \n",
    "|3| L0, beta |\n",
    "|4| all four |"
   ]
  },
  {
   "cell_type": "code",
   "execution_count": null,
   "metadata": {},
   "outputs": [],
   "source": [
    "c = 3"
   ]
  },
  {
   "cell_type": "markdown",
   "metadata": {},
   "source": [
    "The parameters themselves:"
   ]
  },
  {
   "cell_type": "code",
   "execution_count": null,
   "metadata": {},
   "outputs": [],
   "source": [
    "Om, Ophi, m0 =  0.3, 0.7, 8*math.pi*6.67E-11\n",
    "a0, H0, t0, dt, it= 0.15, 1/13.7, 1., 0.001, 2000\n",
    "OM0, Lambda0, beta = 1., -1*math.pow(H0, 2)*Ophi*3, 0.\n",
    "\n",
    "# Set the time\n",
    "t = np.arange(t0, t0 + it*dt, dt)"
   ]
  },
  {
   "cell_type": "markdown",
   "metadata": {},
   "source": [
    "### Model the EFT and χ<sup>2</sup>"
   ]
  },
  {
   "cell_type": "code",
   "execution_count": null,
   "metadata": {},
   "outputs": [],
   "source": [
    "Eft = EFT(Om, Ophi, H0, a0, t0, it, dt)\n",
    "data = Eft.BackgroundTheory()[0]\n",
    "chi1 = chiSq(data, t, H0, a0, t0, Om, Ophi, dt, Lambda0, beta)\n",
    "chi2 = chiSq(data, t, H0, a0, t0, Om, Ophi, dt, Lambda0, beta)\n",
    "chi4 = ChiSq4params(data, t, H0, a0, t0, Om, Ophi, dt)"
   ]
  },
  {
   "cell_type": "markdown",
   "metadata": {},
   "source": [
    "## Chose model from parameters"
   ]
  },
  {
   "cell_type": "code",
   "execution_count": 44,
   "metadata": {},
   "outputs": [
    {
     "data": {
      "image/png": "[encoded data removed]",
      "text/plain": [
       "<Figure size 432x288 with 2 Axes>"
      ]
     },
     "metadata": {
      "needs_background": "light"
     },
     "output_type": "display_data"
    },
    {
     "name": "stdout",
     "output_type": "stream",
     "text": [
      "-1.0\n",
      "couldn't manage  0 0\n",
      "couldn't manage  0 4\n",
      "couldn't manage  0 8\n",
      "couldn't manage  0 9\n",
      "couldn't manage  0 14\n",
      "-0.9\n",
      "couldn't manage  1 2\n",
      "couldn't manage  1 7\n",
      "couldn't manage  1 17\n",
      "-0.8\n",
      "couldn't manage  2 3\n",
      "couldn't manage  2 6\n",
      "couldn't manage  2 9\n",
      "couldn't manage  2 10\n",
      "couldn't manage  2 13\n",
      "couldn't manage  2 15\n",
      "couldn't manage  2 18\n",
      "-0.7000000000000001\n",
      "couldn't manage  3 10\n",
      "couldn't manage  3 14\n",
      "couldn't manage  3 16\n",
      "couldn't manage  3 17\n",
      "-0.6000000000000001\n",
      "-0.5000000000000001\n",
      "-0.40000000000000013\n",
      "-0.30000000000000016\n",
      "-0.20000000000000018\n",
      "-0.1000000000000002\n",
      "-2.220446049250313e-16\n",
      "0.09999999999999964\n",
      "0.19999999999999973\n",
      "0.2999999999999998\n",
      "couldn't manage  13 5\n",
      "0.3999999999999997\n",
      "couldn't manage  14 15\n",
      "couldn't manage  14 16\n",
      "0.49999999999999956\n",
      "couldn't manage  15 5\n",
      "couldn't manage  15 16\n",
      "0.5999999999999996\n",
      "couldn't manage  16 15\n",
      "couldn't manage  16 16\n",
      "couldn't manage  16 17\n",
      "couldn't manage  16 18\n",
      "couldn't manage  16 19\n",
      "0.6999999999999997\n",
      "couldn't manage  17 14\n",
      "couldn't manage  17 16\n",
      "couldn't manage  17 17\n",
      "couldn't manage  17 18\n",
      "0.7999999999999996\n",
      "couldn't manage  18 16\n",
      "0.8999999999999995\n",
      "couldn't manage  19 15\n",
      "couldn't manage  19 16\n",
      "couldn't manage  19 18\n",
      "couldn't manage  19 19\n"
     ]
    },
    {
     "data": {
      "image/png": "[encoded data removed]",
      "text/plain": [
       "<Figure size 432x288 with 2 Axes>"
      ]
     },
     "metadata": {
      "needs_background": "light"
     },
     "output_type": "display_data"
    }
   ],
   "source": [
    "if c ==2:\n",
    "    theoryfun = chi1.function([0., OM0])\n",
    "    madeupfun = chi1.function([1.5, 3.])\n",
    "    value = minimize(chi1, [0., OM0], method = 'TNC', tol = 0.000001, bounds = ((-3, 3), (-3, 3)))\n",
    "    chi1.check()\n",
    "    # Finding chi over alpha, omega space.\n",
    "    alphainits, om0inits = np.arange(-3, 3, 0.1), np.arange(-3, 3, 0.1)\n",
    "    for i in range(len(alphainits)):\n",
    "        print(alphainits[i])\n",
    "        for j in range(len(om0inits)):\n",
    "            try: value2 = minimize(chi2, [alphainits[i], om0inits[j]], method = 'TNC')\n",
    "            except OverflowError: print(\"couldn't manage \", i, j)\n",
    "    chi2.check()\n",
    "\n",
    "if c ==3:\n",
    "    theoryfun = chi1.function([0., Lambda0])\n",
    "    value = minimize(chi1, [0., Lambda0], method = 'TNC', tol = 0.000001, bounds = ((-3, 3), (-3, 3)))\n",
    "    chi1.check()\n",
    "    # Finding chi over beta, Lambda space.\n",
    "    betainits, L0inits = np.arange(-1, 1, 0.1), np.arange(-1, 1, 0.1)\n",
    "    for i in range(len(betainits)):\n",
    "        print(betainits[i])\n",
    "        for j in range(len(L0inits)):\n",
    "            try:value2 = minimize(chi2, [betainits[i], L0inits[j]], method = 'TNC')\n",
    "            except OverflowError: print(\"couldn't manage \", i, j)\n",
    "    chi2.check()\n",
    "\n",
    "if c ==5:\n",
    "    theoryfun = chi1.function([0., 0.])\n",
    "    value = minimize(chi1, [0., 0.], method = 'TNC', tol = 0.000001, bounds = ((-3, 3), (-3, 3)))\n",
    "    chi1.check()\n",
    "    # Finding chi over beta, Lambda space.\n",
    "    lambdainits, G0inits = np.arange(-3, 3, 0.1), np.arange(-3, 3, 0.1)\n",
    "    for i in range(len(lambdainits)):\n",
    "        print(lambdainits[i])\n",
    "        for j in range(len(G0inits)):\n",
    "            try: value2 = minimize(chi2, [lambdainits[i], G0inits[j]], method = 'TNC', bounds=((-5, 5), (-5, 5)))\n",
    "            except OverflowError as er: print(\"couldn't manage\", i, j)\n",
    "    chi2.check()\n",
    "\n",
    "if c==4 :\n",
    "    theoryfun = chi4.function([0., OM0, 0., Lambda0])\n",
    "    value = minimize(chi4, [0., OM0, 0., Lambda0], method = 'TNC', tol = 0.000001)\n",
    "    altparams = chi4.check()\n",
    "    altfun = chi4.function(altparams)"
   ]
  },
  {
   "cell_type": "markdown",
   "metadata": {},
   "source": [
    "# How did it go?"
   ]
  },
  {
   "cell_type": "code",
   "execution_count": 45,
   "metadata": {},
   "outputs": [
    {
     "name": "stdout",
     "output_type": "stream",
     "text": [
      "Success?:  False Linear search failed\n",
      "The minimised beta =  0.0 , \t Lambda0 =  -0.011188662155682243\n",
      "The minimised chi^2 =  0.0\n"
     ]
    }
   ],
   "source": [
    "print('Success?: ', value.success, value.message)\n",
    "if c==2: print('The minimised alpha = ', value.x[0],  ', \\t Omega0 = ', value.x[1])\n",
    "if c==3: print('The minimised beta = ', value.x[0],  ', \\t Lambda0 = ', value.x[1])\n",
    "if c==5: print('The minimised delta = ', value.x[0],  ', \\t Gamma0 = ', value.x[1])\n",
    "if c==4: print('beta = ', value.x[2],  ', \\t Lambda0= ', value.x[3])\n",
    "print('The minimised chi^2 = ', value.fun)\n",
    "if c==2 or c==3 or c==5: new = chi1.function(value.x)\n",
    "if c==4: new = chi4.function(value.x)"
   ]
  },
  {
   "cell_type": "markdown",
   "metadata": {},
   "source": [
    "# Plot the functions"
   ]
  },
  {
   "cell_type": "code",
   "execution_count": 47,
   "metadata": {},
   "outputs": [
    {
     "data": {
      "image/png": "[encoded data removed]",
      "text/plain": [
       "<Figure size 432x288 with 1 Axes>"
      ]
     },
     "metadata": {
      "needs_background": "light"
     },
     "output_type": "display_data"
    }
   ],
   "source": [
    "plt.plot(t, new[0], 'r', label = 'Minimised function')\n",
    "#plt.plot(t, madeupfun[0], 'g', label = 'alpha = 0, beta = 0, Lambda = 0.7')\n",
    "plt.plot(t, data, 'b', label = 'Lambda-CDM')\n",
    "if c ==4: plt.plot(t, altfun[0])\n",
    "plt.legend(loc = 2)\n",
    "plt.title('Expansion of the universe.')\n",
    "plt.ylabel('a(t)')\n",
    "plt.xlabel('time (Gyr)')\n",
    "plt.grid(True)\n",
    "plt.show()"
   ]
  },
  {
   "cell_type": "code",
   "execution_count": null,
   "metadata": {},
   "outputs": [],
   "source": []
  }
 ],
 "metadata": {
  "kernelspec": {
   "display_name": "Python 3",
   "language": "python",
   "name": "python3"
  },
  "language_info": {
   "codemirror_mode": {
    "name": "ipython",
    "version": 3
   },
   "file_extension": ".py",
   "mimetype": "text/x-python",
   "name": "python",
   "nbconvert_exporter": "python",
   "pygments_lexer": "ipython3",
   "version": "3.7.0"
  }
 },
 "nbformat": 4,
 "nbformat_minor": 2
}
